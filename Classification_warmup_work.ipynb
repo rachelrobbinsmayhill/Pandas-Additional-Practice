{
 "cells": [
  {
   "cell_type": "markdown",
   "id": "daaf6a99-e25a-4718-b2b7-56d2056ce5e6",
   "metadata": {},
   "source": [
    "# Classification Warmup"
   ]
  },
  {
   "cell_type": "markdown",
   "id": "b40a4604-7189-44b0-bd6f-63b31724bf5f",
   "metadata": {},
   "source": [
    "1. Use `pydataset` to load the `voteincome` dataset."
   ]
  },
  {
   "cell_type": "code",
   "execution_count": 23,
   "id": "1c6f5477-8a3b-4836-a5ef-aa7078e6bc36",
   "metadata": {},
   "outputs": [],
   "source": [
    "import pandas as pd\n",
    "from pydataset import data"
   ]
  },
  {
   "cell_type": "code",
   "execution_count": 2,
   "id": "fb51af90-03e3-4529-8db8-f3f72f8da520",
   "metadata": {},
   "outputs": [
    {
     "name": "stdout",
     "output_type": "stream",
     "text": [
      "voteincome\n",
      "\n",
      "PyDataset Documentation (adopted from R Documentation. The displayed examples are in R)\n",
      "\n",
      "## Sample Turnout and Demographic Data from the 2000 Current Population Survey\n",
      "\n",
      "### Description\n",
      "\n",
      "This data set contains turnout and demographic data from a sample of\n",
      "respondents to the 2000 Current Population Survey (CPS). The states\n",
      "represented are South Carolina and Arkansas. The data represent only a sample\n",
      "and results from this example should not be used in publication.\n",
      "\n",
      "### Usage\n",
      "\n",
      "    data(voteincome)\n",
      "\n",
      "### Format\n",
      "\n",
      "A data frame containing 7 variables (\"state\", \"year\", \"vote\", \"income\",\n",
      "\"education\", \"age\", \"female\") and 1500 observations.\n",
      "\n",
      "`state`\n",
      "\n",
      "a factor variable with levels equal to \"AR\" (Arkansas) and \"SC\" (South\n",
      "Carolina)\n",
      "\n",
      "`year`\n",
      "\n",
      "an integer vector\n",
      "\n",
      "`vote`\n",
      "\n",
      "an integer vector taking on values \"1\" (Voted) and \"0\" (Did Not Vote)\n",
      "\n",
      "`income`\n",
      "\n",
      "an integer vector ranging from \"4\" (Less than \\$5000) to \"17\" (Greater than\n",
      "\\$75000) denoting family income. See the CPS codebook for more information on\n",
      "variable coding\n",
      "\n",
      "`education`\n",
      "\n",
      "an integer vector ranging from \"1\" (Less than High School Education) to \"4\"\n",
      "(More than a College Education). See the CPS codebook for more information on\n",
      "variable coding\n",
      "\n",
      "`age`\n",
      "\n",
      "an integer vector ranging from \"18\" to \"85\"\n",
      "\n",
      "`female`\n",
      "\n",
      "an integer vector taking on values \"1\" (Female) and \"0\" (Male)\n",
      "\n",
      "### Source\n",
      "\n",
      "Census Bureau Current Population Survey\n",
      "\n",
      "### References\n",
      "\n",
      "http://www.census.gov/cps\n",
      "\n",
      "\n"
     ]
    }
   ],
   "source": [
    "df = data('voteincome', show_doc=True)"
   ]
  },
  {
   "cell_type": "code",
   "execution_count": 3,
   "id": "076fbbd5-1ca8-4188-b09b-cc095e88eaf6",
   "metadata": {},
   "outputs": [],
   "source": [
    "df = data('voteincome')"
   ]
  },
  {
   "cell_type": "code",
   "execution_count": 4,
   "id": "7ddc6df4-cef4-4b1b-86f4-6a40767e465b",
   "metadata": {},
   "outputs": [
    {
     "data": {
      "text/html": [
       "<div>\n",
       "<style scoped>\n",
       "    .dataframe tbody tr th:only-of-type {\n",
       "        vertical-align: middle;\n",
       "    }\n",
       "\n",
       "    .dataframe tbody tr th {\n",
       "        vertical-align: top;\n",
       "    }\n",
       "\n",
       "    .dataframe thead th {\n",
       "        text-align: right;\n",
       "    }\n",
       "</style>\n",
       "<table border=\"1\" class=\"dataframe\">\n",
       "  <thead>\n",
       "    <tr style=\"text-align: right;\">\n",
       "      <th></th>\n",
       "      <th>state</th>\n",
       "      <th>year</th>\n",
       "      <th>vote</th>\n",
       "      <th>income</th>\n",
       "      <th>education</th>\n",
       "      <th>age</th>\n",
       "      <th>female</th>\n",
       "    </tr>\n",
       "  </thead>\n",
       "  <tbody>\n",
       "    <tr>\n",
       "      <th>1</th>\n",
       "      <td>AR</td>\n",
       "      <td>2000</td>\n",
       "      <td>1</td>\n",
       "      <td>9</td>\n",
       "      <td>2</td>\n",
       "      <td>73</td>\n",
       "      <td>0</td>\n",
       "    </tr>\n",
       "    <tr>\n",
       "      <th>2</th>\n",
       "      <td>AR</td>\n",
       "      <td>2000</td>\n",
       "      <td>1</td>\n",
       "      <td>11</td>\n",
       "      <td>2</td>\n",
       "      <td>24</td>\n",
       "      <td>0</td>\n",
       "    </tr>\n",
       "    <tr>\n",
       "      <th>3</th>\n",
       "      <td>AR</td>\n",
       "      <td>2000</td>\n",
       "      <td>0</td>\n",
       "      <td>12</td>\n",
       "      <td>2</td>\n",
       "      <td>24</td>\n",
       "      <td>1</td>\n",
       "    </tr>\n",
       "    <tr>\n",
       "      <th>4</th>\n",
       "      <td>AR</td>\n",
       "      <td>2000</td>\n",
       "      <td>1</td>\n",
       "      <td>16</td>\n",
       "      <td>4</td>\n",
       "      <td>40</td>\n",
       "      <td>0</td>\n",
       "    </tr>\n",
       "    <tr>\n",
       "      <th>5</th>\n",
       "      <td>AR</td>\n",
       "      <td>2000</td>\n",
       "      <td>1</td>\n",
       "      <td>10</td>\n",
       "      <td>4</td>\n",
       "      <td>85</td>\n",
       "      <td>1</td>\n",
       "    </tr>\n",
       "  </tbody>\n",
       "</table>\n",
       "</div>"
      ],
      "text/plain": [
       "  state  year  vote  income  education  age  female\n",
       "1    AR  2000     1       9          2   73       0\n",
       "2    AR  2000     1      11          2   24       0\n",
       "3    AR  2000     0      12          2   24       1\n",
       "4    AR  2000     1      16          4   40       0\n",
       "5    AR  2000     1      10          4   85       1"
      ]
     },
     "execution_count": 4,
     "metadata": {},
     "output_type": "execute_result"
    }
   ],
   "source": [
    "df.head()"
   ]
  },
  {
   "cell_type": "code",
   "execution_count": 5,
   "id": "38ee5074-4508-4b6e-9b71-0a66db2b7470",
   "metadata": {},
   "outputs": [
    {
     "data": {
      "text/plain": [
       "(1500, 7)"
      ]
     },
     "execution_count": 5,
     "metadata": {},
     "output_type": "execute_result"
    }
   ],
   "source": [
    "df.shape"
   ]
  },
  {
   "cell_type": "markdown",
   "id": "7f5373f2-19b3-45bd-967c-b73537578094",
   "metadata": {},
   "source": [
    "2. Drop the `state` and `year` columns."
   ]
  },
  {
   "cell_type": "code",
   "execution_count": 6,
   "id": "9fbeafcc-e8e8-4b03-b1c4-4f9a39dc9094",
   "metadata": {},
   "outputs": [],
   "source": [
    "df = df.drop(columns=['state', 'year'])"
   ]
  },
  {
   "cell_type": "code",
   "execution_count": 7,
   "id": "f3ed831d-beb5-4891-b509-74c5bf7dd95d",
   "metadata": {},
   "outputs": [
    {
     "data": {
      "text/html": [
       "<div>\n",
       "<style scoped>\n",
       "    .dataframe tbody tr th:only-of-type {\n",
       "        vertical-align: middle;\n",
       "    }\n",
       "\n",
       "    .dataframe tbody tr th {\n",
       "        vertical-align: top;\n",
       "    }\n",
       "\n",
       "    .dataframe thead th {\n",
       "        text-align: right;\n",
       "    }\n",
       "</style>\n",
       "<table border=\"1\" class=\"dataframe\">\n",
       "  <thead>\n",
       "    <tr style=\"text-align: right;\">\n",
       "      <th></th>\n",
       "      <th>vote</th>\n",
       "      <th>income</th>\n",
       "      <th>education</th>\n",
       "      <th>age</th>\n",
       "      <th>female</th>\n",
       "    </tr>\n",
       "  </thead>\n",
       "  <tbody>\n",
       "    <tr>\n",
       "      <th>1</th>\n",
       "      <td>1</td>\n",
       "      <td>9</td>\n",
       "      <td>2</td>\n",
       "      <td>73</td>\n",
       "      <td>0</td>\n",
       "    </tr>\n",
       "    <tr>\n",
       "      <th>2</th>\n",
       "      <td>1</td>\n",
       "      <td>11</td>\n",
       "      <td>2</td>\n",
       "      <td>24</td>\n",
       "      <td>0</td>\n",
       "    </tr>\n",
       "    <tr>\n",
       "      <th>3</th>\n",
       "      <td>0</td>\n",
       "      <td>12</td>\n",
       "      <td>2</td>\n",
       "      <td>24</td>\n",
       "      <td>1</td>\n",
       "    </tr>\n",
       "    <tr>\n",
       "      <th>4</th>\n",
       "      <td>1</td>\n",
       "      <td>16</td>\n",
       "      <td>4</td>\n",
       "      <td>40</td>\n",
       "      <td>0</td>\n",
       "    </tr>\n",
       "    <tr>\n",
       "      <th>5</th>\n",
       "      <td>1</td>\n",
       "      <td>10</td>\n",
       "      <td>4</td>\n",
       "      <td>85</td>\n",
       "      <td>1</td>\n",
       "    </tr>\n",
       "  </tbody>\n",
       "</table>\n",
       "</div>"
      ],
      "text/plain": [
       "   vote  income  education  age  female\n",
       "1     1       9          2   73       0\n",
       "2     1      11          2   24       0\n",
       "3     0      12          2   24       1\n",
       "4     1      16          4   40       0\n",
       "5     1      10          4   85       1"
      ]
     },
     "execution_count": 7,
     "metadata": {},
     "output_type": "execute_result"
    }
   ],
   "source": [
    "df.head()"
   ]
  },
  {
   "cell_type": "code",
   "execution_count": 8,
   "id": "c83aa2c3-91c9-46a2-9070-11ac47daf3b7",
   "metadata": {},
   "outputs": [
    {
     "data": {
      "text/plain": [
       "(1500, 5)"
      ]
     },
     "execution_count": 8,
     "metadata": {},
     "output_type": "execute_result"
    }
   ],
   "source": [
    "df.shape"
   ]
  },
  {
   "cell_type": "markdown",
   "id": "40d15969-e5bc-444f-9c65-3ddb027234cf",
   "metadata": {},
   "source": [
    "3. Split the data into train, validate, and test datasets. \n",
    "- We will be predicting whether or not someone votes based on the the remaining features."
   ]
  },
  {
   "cell_type": "code",
   "execution_count": 9,
   "id": "23b54fa9-5ef8-4266-9ca3-3e912c81e457",
   "metadata": {},
   "outputs": [],
   "source": [
    "from sklearn.model_selection import train_test_split"
   ]
  },
  {
   "cell_type": "code",
   "execution_count": 10,
   "id": "1665e2b2-3556-44f7-bb5b-1badc473a6a4",
   "metadata": {},
   "outputs": [],
   "source": [
    "def split_data(df):\n",
    "    '''\n",
    "    take in a DataFrame and return train, validate, and test DataFrames; stratify on survived.\n",
    "    return train, validate, test DataFrames.\n",
    "    '''\n",
    "    train_validate, test = train_test_split(df, test_size=.2, random_state=123, stratify=df.vote)\n",
    "    train, validate = train_test_split(train_validate, \n",
    "                                       test_size=.3, \n",
    "                                       random_state=123, \n",
    "                                       stratify=train_validate.vote)\n",
    "    return train, validate, test"
   ]
  },
  {
   "cell_type": "code",
   "execution_count": 11,
   "id": "68966879-c968-4a92-9b5e-4ec30aa52956",
   "metadata": {},
   "outputs": [],
   "source": [
    "train, validate, test = split_data(df)"
   ]
  },
  {
   "cell_type": "code",
   "execution_count": 12,
   "id": "45412b27-af5d-4437-a533-f78ce793894c",
   "metadata": {},
   "outputs": [
    {
     "data": {
      "text/plain": [
       "((840, 5), (360, 5), (300, 5))"
      ]
     },
     "execution_count": 12,
     "metadata": {},
     "output_type": "execute_result"
    }
   ],
   "source": [
    "train.shape, validate.shape, test.shape"
   ]
  },
  {
   "cell_type": "code",
   "execution_count": 13,
   "id": "69d71ffa-82e5-4fcc-ad3a-d0c8a974723e",
   "metadata": {},
   "outputs": [],
   "source": [
    "# create X & y version of train, where y is a series with just the target variable and X are all the features. \n",
    "\n",
    "X_train = train.drop(columns=['vote'])\n",
    "y_train = train.vote\n",
    "\n",
    "X_validate = validate.drop(columns=['vote'])\n",
    "y_validate = validate.vote\n",
    "\n",
    "X_test = test.drop(columns=['vote'])\n",
    "y_test = test.vote"
   ]
  },
  {
   "cell_type": "markdown",
   "id": "797bea7c-2ad4-4ca2-b4e7-f80e20b4afad",
   "metadata": {},
   "source": [
    "4a. Fit a k-neighbors classifier on the training data. Use 4 for your number of neighbors. "
   ]
  },
  {
   "cell_type": "code",
   "execution_count": 14,
   "id": "4709814f-6b29-4849-a9dd-56a41ebc9120",
   "metadata": {},
   "outputs": [
    {
     "data": {
      "text/plain": [
       "KNeighborsClassifier()"
      ]
     },
     "execution_count": 14,
     "metadata": {},
     "output_type": "execute_result"
    }
   ],
   "source": [
    "from sklearn.neighbors import KNeighborsClassifier\n",
    "#create the model\n",
    "knn= KNeighborsClassifier(n_neighbors=4)\n",
    "\n",
    "#fit the model\n",
    "knn.fit(X_train, y_train)\n",
    "KNeighborsClassifier()"
   ]
  },
  {
   "cell_type": "code",
   "execution_count": 15,
   "id": "a7403a67-8e8e-4c31-842a-91c1d467b10a",
   "metadata": {},
   "outputs": [],
   "source": [
    "# Make Predictions\n",
    "y_pred = knn.predict(X_train)"
   ]
  },
  {
   "cell_type": "code",
   "execution_count": 16,
   "id": "c11c1a18-51cb-44e6-9e59-27e2bee8250d",
   "metadata": {},
   "outputs": [],
   "source": [
    "# Estimate Probability\n",
    "y_pred_proba = knn.predict_proba(X_train)"
   ]
  },
  {
   "cell_type": "markdown",
   "id": "d0f35820-9bc2-411e-8d43-db24ce49a56f",
   "metadata": {},
   "source": [
    "4b. How accurate is your model? "
   ]
  },
  {
   "cell_type": "code",
   "execution_count": 17,
   "id": "83fc5809-1c72-429d-87d2-eac0272c283d",
   "metadata": {},
   "outputs": [
    {
     "name": "stdout",
     "output_type": "stream",
     "text": [
      "Accuracy of KNN classifier on training set: 0.87\n"
     ]
    }
   ],
   "source": [
    "# Compute Accuracy\n",
    "print('Accuracy of KNN classifier on training set: {:.2f}'\n",
    "     .format(knn.score(X_train, y_train)))                      "
   ]
  },
  {
   "cell_type": "code",
   "execution_count": 18,
   "id": "eb2e80fe-1880-4eb7-bfeb-140988997cfd",
   "metadata": {},
   "outputs": [
    {
     "name": "stdout",
     "output_type": "stream",
     "text": [
      "[[ 76  46]\n",
      " [ 65 653]]\n"
     ]
    }
   ],
   "source": [
    "from sklearn.metrics import confusion_matrix\n",
    "# Print confusion Matrix\n",
    "\n",
    "print(confusion_matrix(y_train, y_pred))"
   ]
  },
  {
   "cell_type": "code",
   "execution_count": 19,
   "id": "357380a1-d4e2-4c79-9e23-e7ef54eddeae",
   "metadata": {},
   "outputs": [
    {
     "name": "stdout",
     "output_type": "stream",
     "text": [
      "              precision    recall  f1-score   support\n",
      "\n",
      "           0       0.54      0.62      0.58       122\n",
      "           1       0.93      0.91      0.92       718\n",
      "\n",
      "    accuracy                           0.87       840\n",
      "   macro avg       0.74      0.77      0.75       840\n",
      "weighted avg       0.88      0.87      0.87       840\n",
      "\n"
     ]
    }
   ],
   "source": [
    "from sklearn.metrics import classification_report\n",
    "print(classification_report(y_train, y_pred))"
   ]
  },
  {
   "cell_type": "markdown",
   "id": "526ebdc9-638b-4a05-bd17-0a9dc3171d32",
   "metadata": {},
   "source": [
    "4c. How does it perform on the validate data?"
   ]
  },
  {
   "cell_type": "code",
   "execution_count": 30,
   "id": "8979ccb6-743b-4ed7-b621-0317b555423b",
   "metadata": {},
   "outputs": [
    {
     "name": "stdout",
     "output_type": "stream",
     "text": [
      "Accuracy of KNN classifier on validate set: 0.77\n"
     ]
    }
   ],
   "source": [
    "print('Accuracy of KNN classifier on validate set: {:.2f}'\n",
    "     .format(knn.score(X_validate, y_validate)))"
   ]
  },
  {
   "cell_type": "markdown",
   "id": "782b815a-997d-418f-8223-07e6d60383d0",
   "metadata": {},
   "source": [
    "5. Try our these values for k: 1, 2, 3, and 4. "
   ]
  },
  {
   "cell_type": "code",
   "execution_count": 31,
   "id": "e3555786-1644-4520-9a88-d59995bbdb1a",
   "metadata": {},
   "outputs": [],
   "source": [
    "metrics = []\n",
    "\n",
    "# loop through different values of k\n",
    "for k in range(1, 5):\n",
    "            \n",
    "    # define the thing\n",
    "    knn = KNeighborsClassifier(n_neighbors=k)\n",
    "    \n",
    "    # fit the thing (remmeber only fit on training data)\n",
    "    knn.fit(X_train, y_train)\n",
    "    \n",
    "    # use the thing (calculate accuracy)\n",
    "    train_accuracy = knn.score(X_train, y_train)\n",
    "    validate_accuracy = knn.score(X_validate, y_validate)\n",
    "    \n",
    "    output = {\n",
    "        \"k\": k,\n",
    "        \"train_accuracy\": train_accuracy,\n",
    "        \"validate_accuracy\": validate_accuracy\n",
    "    }\n",
    "    \n",
    "    metrics.append(output)\n",
    "\n",
    "# make a dataframe\n",
    "results = pd.DataFrame(metrics)"
   ]
  },
  {
   "cell_type": "code",
   "execution_count": 32,
   "id": "6ecd101a-e473-4566-a39b-2583d15c5551",
   "metadata": {},
   "outputs": [
    {
     "data": {
      "text/html": [
       "<div>\n",
       "<style scoped>\n",
       "    .dataframe tbody tr th:only-of-type {\n",
       "        vertical-align: middle;\n",
       "    }\n",
       "\n",
       "    .dataframe tbody tr th {\n",
       "        vertical-align: top;\n",
       "    }\n",
       "\n",
       "    .dataframe thead th {\n",
       "        text-align: right;\n",
       "    }\n",
       "</style>\n",
       "<table border=\"1\" class=\"dataframe\">\n",
       "  <thead>\n",
       "    <tr style=\"text-align: right;\">\n",
       "      <th></th>\n",
       "      <th>k</th>\n",
       "      <th>train_accuracy</th>\n",
       "      <th>validate_accuracy</th>\n",
       "    </tr>\n",
       "  </thead>\n",
       "  <tbody>\n",
       "    <tr>\n",
       "      <th>0</th>\n",
       "      <td>1</td>\n",
       "      <td>0.971429</td>\n",
       "      <td>0.827778</td>\n",
       "    </tr>\n",
       "    <tr>\n",
       "      <th>1</th>\n",
       "      <td>2</td>\n",
       "      <td>0.902381</td>\n",
       "      <td>0.736111</td>\n",
       "    </tr>\n",
       "    <tr>\n",
       "      <th>2</th>\n",
       "      <td>3</td>\n",
       "      <td>0.892857</td>\n",
       "      <td>0.797222</td>\n",
       "    </tr>\n",
       "    <tr>\n",
       "      <th>3</th>\n",
       "      <td>4</td>\n",
       "      <td>0.867857</td>\n",
       "      <td>0.769444</td>\n",
       "    </tr>\n",
       "  </tbody>\n",
       "</table>\n",
       "</div>"
      ],
      "text/plain": [
       "   k  train_accuracy  validate_accuracy\n",
       "0  1        0.971429           0.827778\n",
       "1  2        0.902381           0.736111\n",
       "2  3        0.892857           0.797222\n",
       "3  4        0.867857           0.769444"
      ]
     },
     "execution_count": 32,
     "metadata": {},
     "output_type": "execute_result"
    }
   ],
   "source": [
    "results"
   ]
  },
  {
   "cell_type": "markdown",
   "id": "514f08ef-7c51-43a6-b955-f7293203cdaa",
   "metadata": {},
   "source": [
    "Which gives the best accuracy? "
   ]
  },
  {
   "cell_type": "markdown",
   "id": "fdf5562b-9d02-40df-a9c1-2443745a661e",
   "metadata": {},
   "source": [
    "- The best accuracy for train is the model with 1 neighbor, although with an accuracy of 97% it may be overfitted."
   ]
  },
  {
   "cell_type": "markdown",
   "id": "02599c0b-732d-4a25-bb0f-1876a7ae8220",
   "metadata": {},
   "source": [
    "Which gives the best accuracy on the validate data set?"
   ]
  },
  {
   "cell_type": "markdown",
   "id": "52027733-bf31-4f5a-85c0-79c0843d5732",
   "metadata": {},
   "source": [
    "- The best accuracy for validate is the model with 1 neightbor as well, with an accuracy of 83%."
   ]
  },
  {
   "cell_type": "markdown",
   "id": "f4ff7b36-029e-49bd-b751-c234af97f9aa",
   "metadata": {},
   "source": [
    " \n",
    "- Models with 1 and 2 neightbors had the greatest difference in performance between train and validate, with 16-17% drop in accuracy from one to the other. \n",
    "- Models with 3 and 4 neighbors had the least diffrence in performance between train and validate with a 9% drop in accuracy from one to the other. "
   ]
  },
  {
   "cell_type": "markdown",
   "id": "31a8136f-f184-46cc-95cb-ac7b7840665b",
   "metadata": {},
   "source": [
    "6a. View the classification report for your best model on the test split."
   ]
  },
  {
   "cell_type": "code",
   "execution_count": 34,
   "id": "e92bfbf6-6745-4375-890b-0f71ac84d138",
   "metadata": {},
   "outputs": [
    {
     "name": "stdout",
     "output_type": "stream",
     "text": [
      "Accuracy of KNN classifier on test set: 1.00\n",
      "[[ 42   1]\n",
      " [  0 257]]\n",
      "              precision    recall  f1-score   support\n",
      "\n",
      "           0       1.00      0.98      0.99        43\n",
      "           1       1.00      1.00      1.00       257\n",
      "\n",
      "    accuracy                           1.00       300\n",
      "   macro avg       1.00      0.99      0.99       300\n",
      "weighted avg       1.00      1.00      1.00       300\n",
      "\n"
     ]
    }
   ],
   "source": [
    "knn = KNeighborsClassifier(n_neighbors=1)\n",
    "knn.fit(X_test, y_test)\n",
    "KNeighborsClassifier()\n",
    "y_pred = knn.predict(X_test)\n",
    "y_pred_proba = knn.predict_proba(X_test)\n",
    "\n",
    "print('Accuracy of KNN classifier on test set: {:.2f}'\n",
    "     .format(knn.score(X_test, y_test)))\n",
    "print(confusion_matrix(y_test, y_pred))\n",
    "print(classification_report(y_test, y_pred))"
   ]
  },
  {
   "cell_type": "markdown",
   "id": "ef72f7a5-5672-4397-b6c3-14aa4eb5fc10",
   "metadata": {},
   "source": [
    "6b. What do you notice?"
   ]
  },
  {
   "cell_type": "markdown",
   "id": "c63ea4b1-f600-4de4-99d7-40bd9abced7d",
   "metadata": {},
   "source": [
    "I notice the accuracy is 100%. This seems strance to me. "
   ]
  },
  {
   "cell_type": "markdown",
   "id": "bbf1b13d-2b02-434c-b8a3-4d8ffbd920c5",
   "metadata": {},
   "source": [
    "7a. Within our problem space, what does accuracy mean? "
   ]
  },
  {
   "cell_type": "markdown",
   "id": "86830841-e1b2-4d60-95b6-93f6a6fd9adc",
   "metadata": {},
   "source": [
    "TP = Predict Vote / Actually Votes\n",
    "TN = Predict Not Vote / Actually Doesn't Vote\n",
    "FP = Predict Vote / Actually Doesn't Vote\n",
    "FN = Predict Not Vote / Actually Votes\n",
    "\n",
    "- Accuracy is the rate of TP + TN out of ALL the outcomes\n",
    "    - The number of times the predictions were correct in actuality. \n",
    "    - In this scenario it is the number of times we predict someone does or doesn't vote based upon their income, education, age, and gender; and those predictions happened in actuality, out of ALL the predictions we made. "
   ]
  },
  {
   "cell_type": "markdown",
   "id": "f5bad49f-cb82-4720-8b22-5d802caef188",
   "metadata": {},
   "source": [
    "7b. Precision? "
   ]
  },
  {
   "cell_type": "markdown",
   "id": "9b58447b-9227-4155-b36a-f3e83d963ab0",
   "metadata": {},
   "source": [
    "- Precision is the rate of TP out of TP + FP\n",
    "    - In this case it is the number of times we predicted someone would vote and they actually voted, out of all the times we predicted they would vote. "
   ]
  },
  {
   "cell_type": "markdown",
   "id": "a8280639-5dfd-4773-b5be-9037ab865ded",
   "metadata": {},
   "source": [
    "7c. Recall?"
   ]
  },
  {
   "cell_type": "markdown",
   "id": "760ca5f2-b04c-48e9-820f-9f8e4ff2c9fe",
   "metadata": {},
   "source": [
    "- Recall is the rate of TP out of TP + FN\n",
    "    - In this case it is the number of times we predicted someone would vote, out of all the times someone actually voted, whether we predicted it or not. "
   ]
  }
 ],
 "metadata": {
  "kernelspec": {
   "display_name": "Python 3 (ipykernel)",
   "language": "python",
   "name": "python3"
  },
  "language_info": {
   "codemirror_mode": {
    "name": "ipython",
    "version": 3
   },
   "file_extension": ".py",
   "mimetype": "text/x-python",
   "name": "python",
   "nbconvert_exporter": "python",
   "pygments_lexer": "ipython3",
   "version": "3.9.7"
  }
 },
 "nbformat": 4,
 "nbformat_minor": 5
}
